{
 "cells": [
  {
   "attachments": {},
   "cell_type": "markdown",
   "metadata": {},
   "source": [
    "# First time users only: \n",
    "1) Install deps\n",
    "```\n",
    "    pip install qiskit qiskit-ibm-runtime\n",
    "```\n",
    "2) Save your IBM account"
   ]
  },
  {
   "cell_type": "code",
   "execution_count": null,
   "metadata": {},
   "outputs": [],
   "source": [
    "from qiskit_ibm_provider import IBMProvider\n",
    "\n",
    "provider = IBMProvider(token='YOUR_API_TOKEN')\n",
    "provider.save_account(token='YOUR_API_TOKEN')"
   ]
  },
  {
   "attachments": {},
   "cell_type": "markdown",
   "metadata": {},
   "source": [
    "3) Load and show your IBM account"
   ]
  },
  {
   "cell_type": "code",
   "execution_count": null,
   "metadata": {},
   "outputs": [],
   "source": [
    "from qiskit_ibm_provider import IBMProvider\n",
    "\n",
    "# Load\n",
    "provider = IBMProvider()\n",
    "\n",
    "# Show\n",
    "provider.active_account()"
   ]
  },
  {
   "attachments": {},
   "cell_type": "markdown",
   "metadata": {},
   "source": [
    "# Basics"
   ]
  },
  {
   "attachments": {},
   "cell_type": "markdown",
   "metadata": {},
   "source": [
    "## Backends"
   ]
  },
  {
   "attachments": {},
   "cell_type": "markdown",
   "metadata": {},
   "source": [
    "### Print available backends"
   ]
  },
  {
   "cell_type": "code",
   "execution_count": null,
   "metadata": {},
   "outputs": [],
   "source": [
    "from qiskit_ibm_provider import IBMProvider\n",
    "\n",
    "IBMProvider().backends()"
   ]
  },
  {
   "attachments": {},
   "cell_type": "markdown",
   "metadata": {},
   "source": [
    "### Create and run a basic circuit on IBM's backend"
   ]
  },
  {
   "cell_type": "code",
   "execution_count": null,
   "metadata": {},
   "outputs": [],
   "source": [
    "from qiskit import QuantumCircuit, transpile\n",
    "from qiskit_ibm_provider import IBMProvider\n",
    "\n",
    "# Load previously saved account credentials.\n",
    "provider = IBMProvider()\n",
    "\n",
    "# Create a circuit\n",
    "qc = QuantumCircuit(2)\n",
    "qc.h(0)\n",
    "qc.cx(0, 1)\n",
    "qc.measure_all()\n",
    "\n",
    "# Select a backend.\n",
    "backend = provider.get_backend(\"ibmq_qasm_simulator\")\n",
    "\n",
    "# Transpile the circuit\n",
    "transpiled = transpile(qc, backend=backend)\n",
    "\n",
    "# Submit a job.\n",
    "job = backend.run(transpiled, shots=1000)\n",
    "# Get results.\n",
    "print(job.result().get_counts())"
   ]
  },
  {
   "attachments": {},
   "cell_type": "markdown",
   "metadata": {},
   "source": [
    "## Visualization tools"
   ]
  },
  {
   "attachments": {},
   "cell_type": "markdown",
   "metadata": {},
   "source": [
    "### Circuit drawer"
   ]
  },
  {
   "cell_type": "code",
   "execution_count": null,
   "metadata": {},
   "outputs": [],
   "source": [
    "from qiskit import QuantumCircuit\n",
    "from qiskit.visualization import circuit_drawer\n",
    "\n",
    "circuit = QuantumCircuit(1)\n",
    "circuit.h(0)\n",
    "circuit.h(0)\n",
    "\n",
    "circuit_drawer(circuit, output='mpl')"
   ]
  },
  {
   "attachments": {},
   "cell_type": "markdown",
   "metadata": {},
   "source": [
    "### Visualize transition"
   ]
  },
  {
   "cell_type": "code",
   "execution_count": null,
   "metadata": {},
   "outputs": [],
   "source": [
    "from qiskit import QuantumCircuit\n",
    "from qiskit.visualization import visualize_transition\n",
    "\n",
    "circuit = QuantumCircuit(1)\n",
    "circuit.h(0)\n",
    "circuit.h(0)\n",
    "\n",
    "visualize_transition(circuit=circuit)"
   ]
  },
  {
   "attachments": {},
   "cell_type": "markdown",
   "metadata": {},
   "source": [
    "### Plot histogram"
   ]
  },
  {
   "cell_type": "code",
   "execution_count": null,
   "metadata": {},
   "outputs": [],
   "source": [
    "from qiskit import QuantumCircuit\n",
    "from qiskit.visualization import plot_histogram\n",
    "from qiskit_ibm_provider import IBMProvider\n",
    "\n",
    "provider = IBMProvider()\n",
    "\n",
    "circuit = QuantumCircuit(1, 1)\n",
    "circuit.h(0)\n",
    "# circuit.h(0)\n",
    "\n",
    "circuit.measure(0, 0)\n",
    "\n",
    "backend = provider.get_backend(name='ibmq_qasm_simulator')\n",
    "job = backend.run(circuit, shots=100)\n",
    "result = job.result()\n",
    "\n",
    "plot_histogram(result.get_counts(circuit))"
   ]
  },
  {
   "attachments": {},
   "cell_type": "markdown",
   "metadata": {},
   "source": [
    "## EV Charging Station - Cost minimazation"
   ]
  },
  {
   "cell_type": "code",
   "execution_count": null,
   "metadata": {},
   "outputs": [],
   "source": [
    "from qiskit.algorithms.minimum_eigensolvers import VQE, QAOA\n",
    "\n",
    "# Quantum Approximate Optimazation Algorithm\n",
    "# Step 1: Create Hamiltonian (representing boolean logical operations)\n",
    "\n",
    "# step 2: Create a QC with random results\n",
    "\n",
    "# Step 3: ?\n",
    "\n",
    "# step 4: Measure the results\n",
    "\n",
    "# step 5: Optimazator"
   ]
  },
  {
   "cell_type": "code",
   "execution_count": 7,
   "metadata": {},
   "outputs": [],
   "source": [
    "from qiskit.algorithms.minimum_eigensolvers import QAOA\n",
    "\n",
    "installation_costs = {\n",
    "    'Supermarket_1': 30000,\n",
    "    'Church_1': 10000, \n",
    "    'Sport_center': 44000,\n",
    "    'Supermarket_2': 40000,       \n",
    "    'Shopping_center_2': 27000,\n",
    "    'Shopping_center_1': 35000,\n",
    "    'Cinema': 52000,\n",
    "    'University_1': 65000,\n",
    "    'Library': 22000,\n",
    "    'Park_1': 18000,\n",
    "    'Museum': 42000,\n",
    "    'Train_station': 54000,\n",
    "    'Airport': 97000,\n",
    "    'Hospital': 72000,\n",
    "    'Office_building': 55000\n",
    "}\n",
    "\n",
    "traffic_values = {\n",
    "    'Supermarket_1': [0.06, 0.21, 0.86, 0.38, 0.16, 0.06, 0.38],\n",
    "    'Church_1': [0.74, 0.74, 0.6, 0.45, 0.22, 0.08, 0.15],\n",
    "    'Sport_center': [0.30, 0.5, 0.51, 0.50, 0.46, 0.06, 0.73],\n",
    "    'Supermarket_2': [0.91, 0.24, 0.98, 0.70, 0.89, 0.42, 0.2],\n",
    "    'Shopping_center_2': [0.54, 0.59, 0.11, 0.29, 0.15, 0, 0],\n",
    "    'Shopping_center_1': [0.28, 0.84, 0.25, 0.07, 0.13, 0.31, 0.19],\n",
    "    'Cinema': [0.40, 0.77, 0.99, 0.90, 0.84, 0.10, 0.58],\n",
    "    'University_1': [0.03, 0.014, 0.86, 0.48, 0.71, 0.73, 0.99],\n",
    "    'Library': [0.56, 0.96, 0.79, 0.14, 0.28, 0.09, 0.35],\n",
    "    'Park_1': [0.82, 0.66, 0.42, 0.18 , 0.24, 0.72, 0.39],\n",
    "    'Museum': [0.18, 0.49, 0.62, 0.37, 0.93, 0, 0],\n",
    "    'Train_station': [0.27, 0.08, 0.73, 0.15, 0.81, 0.98, 0.39],\n",
    "    'Airport': [0.43, 0.19, 0.023, 0.094, 0.84, 0.69, 0.12],\n",
    "    'Hospital': [0.61, 0.023, 0.72, 0.25, 0.44 ,0.79, 0.59],\n",
    "    'Office_building': [0.075, 0.34, 0.58, 0.72, 0.42, 0, 0]\n",
    "}\n",
    "\n",
    "budget = 200000 # Total available budget\n",
    "\n",
    "num_qubits = 15 # Number of potential EVCS locations   \n",
    "\n"
   ]
  },
  {
   "cell_type": "code",
   "execution_count": null,
   "metadata": {},
   "outputs": [],
   "source": []
  }
 ],
 "metadata": {
  "kernelspec": {
   "display_name": "Python 3",
   "language": "python",
   "name": "python3"
  },
  "language_info": {
   "codemirror_mode": {
    "name": "ipython",
    "version": 3
   },
   "file_extension": ".py",
   "mimetype": "text/x-python",
   "name": "python",
   "nbconvert_exporter": "python",
   "pygments_lexer": "ipython3",
   "version": "3.10.2"
  },
  "orig_nbformat": 4
 },
 "nbformat": 4,
 "nbformat_minor": 2
}
