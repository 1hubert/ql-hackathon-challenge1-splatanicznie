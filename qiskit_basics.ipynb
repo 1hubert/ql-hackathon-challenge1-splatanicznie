{
 "cells": [
  {
   "attachments": {},
   "cell_type": "markdown",
   "metadata": {},
   "source": [
    "# First time users only: \n",
    "1) Install deps\n",
    "```\n",
    "    pip install qiskit qiskit-ibm-runtime\n",
    "```\n",
    "2) Save your IBM account"
   ]
  },
  {
   "cell_type": "code",
   "execution_count": null,
   "metadata": {},
   "outputs": [],
   "source": [
    "from qiskit_ibm_provider import IBMProvider\n",
    "\n",
    "provider = IBMProvider(token='YOUR_API_TOKEN')\n",
    "provider.save_account(token='YOUR_API_TOKEN')"
   ]
  },
  {
   "attachments": {},
   "cell_type": "markdown",
   "metadata": {},
   "source": [
    "3) Load and show your IBM account"
   ]
  },
  {
   "cell_type": "code",
   "execution_count": null,
   "metadata": {},
   "outputs": [],
   "source": [
    "from qiskit_ibm_provider import IBMProvider\n",
    "\n",
    "# Load\n",
    "provider = IBMProvider()\n",
    "\n",
    "# Show\n",
    "provider.active_account()"
   ]
  },
  {
   "attachments": {},
   "cell_type": "markdown",
   "metadata": {},
   "source": [
    "# Basics"
   ]
  },
  {
   "attachments": {},
   "cell_type": "markdown",
   "metadata": {},
   "source": [
    "## Backends"
   ]
  },
  {
   "attachments": {},
   "cell_type": "markdown",
   "metadata": {},
   "source": [
    "### Print available backends"
   ]
  },
  {
   "cell_type": "code",
   "execution_count": null,
   "metadata": {},
   "outputs": [],
   "source": [
    "from qiskit_ibm_provider import IBMProvider\n",
    "\n",
    "IBMProvider().backends()"
   ]
  },
  {
   "attachments": {},
   "cell_type": "markdown",
   "metadata": {},
   "source": [
    "### Create and run a basic circuit on IBM's backend"
   ]
  },
  {
   "cell_type": "code",
   "execution_count": null,
   "metadata": {},
   "outputs": [],
   "source": [
    "from qiskit import QuantumCircuit, transpile\n",
    "from qiskit_ibm_provider import IBMProvider\n",
    "\n",
    "# Load previously saved account credentials.\n",
    "provider = IBMProvider()\n",
    "\n",
    "# Create a circuit\n",
    "qc = QuantumCircuit(2)\n",
    "qc.h(0)\n",
    "qc.cx(0, 1)\n",
    "qc.measure_all()\n",
    "\n",
    "# Select a backend.\n",
    "backend = provider.get_backend(\"ibmq_qasm_simulator\")\n",
    "\n",
    "# Transpile the circuit\n",
    "transpiled = transpile(qc, backend=backend)\n",
    "\n",
    "# Submit a job.\n",
    "job = backend.run(transpiled, shots=1000)\n",
    "# Get results.\n",
    "print(job.result().get_counts())"
   ]
  },
  {
   "attachments": {},
   "cell_type": "markdown",
   "metadata": {},
   "source": [
    "## Visualization tools"
   ]
  },
  {
   "attachments": {},
   "cell_type": "markdown",
   "metadata": {},
   "source": [
    "### Circuit drawer"
   ]
  },
  {
   "cell_type": "code",
   "execution_count": null,
   "metadata": {},
   "outputs": [],
   "source": [
    "from qiskit import QuantumCircuit\n",
    "from qiskit.visualization import circuit_drawer\n",
    "\n",
    "circuit = QuantumCircuit(1)\n",
    "circuit.h(0)\n",
    "circuit.h(0)\n",
    "\n",
    "circuit_drawer(circuit, output='mpl')"
   ]
  },
  {
   "attachments": {},
   "cell_type": "markdown",
   "metadata": {},
   "source": [
    "### Visualize transition"
   ]
  },
  {
   "cell_type": "code",
   "execution_count": null,
   "metadata": {},
   "outputs": [],
   "source": [
    "from qiskit import QuantumCircuit\n",
    "from qiskit.visualization import visualize_transition\n",
    "\n",
    "circuit = QuantumCircuit(1)\n",
    "circuit.h(0)\n",
    "circuit.h(0)\n",
    "\n",
    "visualize_transition(circuit=circuit)"
   ]
  },
  {
   "attachments": {},
   "cell_type": "markdown",
   "metadata": {},
   "source": [
    "### Plot histogram"
   ]
  },
  {
   "cell_type": "code",
   "execution_count": null,
   "metadata": {},
   "outputs": [],
   "source": [
    "from qiskit import QuantumCircuit\n",
    "from qiskit.visualization import plot_histogram\n",
    "from qiskit_ibm_provider import IBMProvider\n",
    "\n",
    "provider = IBMProvider()\n",
    "\n",
    "circuit = QuantumCircuit(1, 1)\n",
    "circuit.h(0)\n",
    "# circuit.h(0)\n",
    "\n",
    "circuit.measure(0, 0)\n",
    "\n",
    "backend = provider.get_backend(name='ibmq_qasm_simulator')\n",
    "job = backend.run(circuit, shots=100)\n",
    "result = job.result()\n",
    "\n",
    "plot_histogram(result.get_counts(circuit))"
   ]
  },
  {
   "attachments": {},
   "cell_type": "markdown",
   "metadata": {},
   "source": [
    "## EV Charging Station - Cost minimazation"
   ]
  },
  {
   "cell_type": "code",
   "execution_count": null,
   "metadata": {},
   "outputs": [],
   "source": [
    "from qiskit.algorithms.minimum_eigensolvers import VQE, QAOA\n",
    "\n",
    "# Quantum Approximate Optimazation Algorithm\n",
    "# Step 1: Create Hamiltonian (representing boolean logical operations)\n",
    "\n",
    "# step 2: Create a QC with random results\n",
    "\n",
    "# Step 3: ?\n",
    "\n",
    "# step 4: Measure the results\n",
    "\n",
    "# step 5: Optimazator"
   ]
  },
  {
   "cell_type": "code",
   "execution_count": 13,
   "metadata": {},
   "outputs": [
    {
     "ename": "SyntaxError",
     "evalue": "invalid syntax (2338595040.py, line 54)",
     "output_type": "error",
     "traceback": [
      "\u001b[1;36m  Input \u001b[1;32mIn [13]\u001b[1;36m\u001b[0m\n\u001b[1;33m    sampler = QAOA.\u001b[0m\n\u001b[1;37m                   ^\u001b[0m\n\u001b[1;31mSyntaxError\u001b[0m\u001b[1;31m:\u001b[0m invalid syntax\n"
     ]
    }
   ],
   "source": [
    "from qiskit.algorithms.minimum_eigensolvers import QAOA\n",
    "from qiskit_ibm_provider import IBMProvider\n",
    "from qiskit.algorithms.optimizers import COBYLA\n",
    "\n",
    "installation_costs = {\n",
    "    'Supermarket_1': 30000,\n",
    "    'Church_1': 10000, \n",
    "    'Sport_center': 44000,\n",
    "    'Supermarket_2': 40000,       \n",
    "    'Shopping_center_2': 27000,\n",
    "    'Shopping_center_1': 35000,\n",
    "    'Cinema': 52000,\n",
    "    'University_1': 65000,\n",
    "    'Library': 22000,\n",
    "    'Park_1': 18000,\n",
    "    'Museum': 42000,\n",
    "    'Train_station': 54000,\n",
    "    'Airport': 97000,\n",
    "    'Hospital': 72000,\n",
    "    'Office_building': 55000\n",
    "}\n",
    "\n",
    "traffic_values = {\n",
    "    'Supermarket_1': [0.06, 0.21, 0.86, 0.38, 0.16, 0.06, 0.38],\n",
    "    'Church_1': [0.74, 0.74, 0.6, 0.45, 0.22, 0.08, 0.15],\n",
    "    'Sport_center': [0.30, 0.5, 0.51, 0.50, 0.46, 0.06, 0.73],\n",
    "    'Supermarket_2': [0.91, 0.24, 0.98, 0.70, 0.89, 0.42, 0.2],\n",
    "    'Shopping_center_2': [0.54, 0.59, 0.11, 0.29, 0.15, 0, 0],\n",
    "    'Shopping_center_1': [0.28, 0.84, 0.25, 0.07, 0.13, 0.31, 0.19],\n",
    "    'Cinema': [0.40, 0.77, 0.99, 0.90, 0.84, 0.10, 0.58],\n",
    "    'University_1': [0.03, 0.014, 0.86, 0.48, 0.71, 0.73, 0.99],\n",
    "    'Library': [0.56, 0.96, 0.79, 0.14, 0.28, 0.09, 0.35],\n",
    "    'Park_1': [0.82, 0.66, 0.42, 0.18 , 0.24, 0.72, 0.39],\n",
    "    'Museum': [0.18, 0.49, 0.62, 0.37, 0.93, 0, 0],\n",
    "    'Train_station': [0.27, 0.08, 0.73, 0.15, 0.81, 0.98, 0.39],\n",
    "    'Airport': [0.43, 0.19, 0.023, 0.094, 0.84, 0.69, 0.12],\n",
    "    'Hospital': [0.61, 0.023, 0.72, 0.25, 0.44 ,0.79, 0.59],\n",
    "    'Office_building': [0.075, 0.34, 0.58, 0.72, 0.42, 0, 0]\n",
    "}\n",
    "\n",
    "# Total available budget\n",
    "budget = 200000\n",
    "\n",
    "# Number of potential EVCS locations\n",
    "num_qubits = 15\n",
    "\n",
    "# Search for the best locations for EVCS taking into account the traffic values and the installation costs\n",
    "# of each location.\n",
    "provider = IBMProvider()\n",
    "backend = provider.get_backend(\"ibmq_qasm_simulator\")\n",
    "\n",
    "# Define the hamiltonian, and then define the sampler\n",
    "# Note: the hamiltonian is the same for all QAOA instances\n",
    "sampler = QAOA.\n",
    "\n",
    "qaoa = QAOA(reps=5, sampler=sampler, optimizer=COBYLA(maxiter=1000))\n",
    "\n",
    "# define the operator\n",
    "operator = qaoa.construct_operator(installation_costs, traffic_values, budget)\n",
    "\n",
    "result = qaoa.compute_minimum_eigenvalue(operator=operator)"
   ]
  },
  {
   "cell_type": "code",
   "execution_count": null,
   "metadata": {},
   "outputs": [],
   "source": [
    "import numpy as np\n",
    "import copy\n",
    "\n",
    "# Problem modelling imports\n",
    "from docplex.mp.model import Model\n",
    "\n",
    "# Qiskit imports\n",
    "from qiskit.algorithms.minimum_eigensolvers import QAOA, NumPyMinimumEigensolver\n",
    "from qiskit.algorithms.optimizers import COBYLA\n",
    "from qiskit.primitives import Sampler\n",
    "from qiskit.utils.algorithm_globals import algorithm_globals\n",
    "from qiskit_optimization.algorithms import MinimumEigenOptimizer, CplexOptimizer\n",
    "from qiskit_optimization import QuadraticProgram\n",
    "from qiskit_optimization.problems.variable import VarType\n",
    "from qiskit_optimization.converters.quadratic_program_to_qubo import QuadraticProgramToQubo\n",
    "from qiskit_optimization.translators import from_docplex_mp\n",
    "\n",
    "def create_problem(mu: np.array, sigma: np.array, total: int = 3) -> QuadraticProgram:\n",
    "    \"\"\"Solve the quadratic program using docplex.\"\"\"\n",
    "\n",
    "    mdl = Model()\n",
    "    x = [mdl.binary_var(\"x%s\" % i) for i in range(len(sigma))]\n",
    "\n",
    "    objective = mdl.sum([mu[i] * x[i] for i in range(len(mu))])\n",
    "    objective -= 2 * mdl.sum(\n",
    "        [sigma[i, j] * x[i] * x[j] for i in range(len(mu)) for j in range(len(mu))]\n",
    "    )\n",
    "    mdl.maximize(objective)\n",
    "    cost = mdl.sum(x)\n",
    "    mdl.add_constraint(cost == total)\n",
    "\n",
    "    qp = from_docplex_mp(mdl)\n",
    "    return qp\n",
    "\n",
    "\n",
    "def relax_problem(problem) -> QuadraticProgram:\n",
    "    \"\"\"Change all variables to continuous.\"\"\"\n",
    "    relaxed_problem = copy.deepcopy(problem)\n",
    "    for variable in relaxed_problem.variables:\n",
    "        variable.vartype = VarType.CONTINUOUS\n",
    "\n",
    "    return relaxed_problem\n",
    "\n",
    "mu = np.array([3.418, 2.0913, 6.2415, 4.4436, 10.892, 3.4051])\n",
    "sigma = np.array(\n",
    "    [\n",
    "        [1.07978412, 0.00768914, 0.11227606, -0.06842969, -0.01016793, -0.00839765],\n",
    "        [0.00768914, 0.10922887, -0.03043424, -0.0020045, 0.00670929, 0.0147937],\n",
    "        [0.11227606, -0.03043424, 0.985353, 0.02307313, -0.05249785, 0.00904119],\n",
    "        [-0.06842969, -0.0020045, 0.02307313, 0.6043817, 0.03740115, -0.00945322],\n",
    "        [-0.01016793, 0.00670929, -0.05249785, 0.03740115, 0.79839634, 0.07616951],\n",
    "        [-0.00839765, 0.0147937, 0.00904119, -0.00945322, 0.07616951, 1.08464544],\n",
    "    ]\n",
    ")\n",
    "\n",
    "qubo = create_problem(mu, sigma)\n",
    "print(qubo.prettyprint())\n",
    "\n",
    "result = CplexOptimizer().solve(qubo)\n",
    "print(result.prettyprint())\n",
    "\n",
    "qp = relax_problem(QuadraticProgramToQubo().convert(qubo))\n",
    "print(qp.prettyprint())\n",
    "\n",
    "sol = CplexOptimizer().solve(qp)\n",
    "print(sol.prettyprint())\n",
    "\n",
    "c_stars = sol.samples[0].x\n",
    "print(c_stars)"
   ]
  },
  {
   "cell_type": "code",
   "execution_count": 17,
   "metadata": {},
   "outputs": [
    {
     "name": "stdout",
     "output_type": "stream",
     "text": [
      "objective function value: 16.768932200000002\n",
      "variable values: x0=0.0, x1=0.0, x2=1.0, x3=1.0, x4=1.0, x5=0.0\n",
      "status: SUCCESS\n"
     ]
    }
   ],
   "source": [
    "algorithm_globals.random_seed = 12345\n",
    "qaoa_mes = QAOA(sampler=Sampler(), optimizer=COBYLA(), initial_point=[0.0, 1.0])\n",
    "exact_mes = NumPyMinimumEigensolver()\n",
    "\n",
    "qaoa = MinimumEigenOptimizer(qaoa_mes)\n",
    "\n",
    "qaoa_result = qaoa.solve(qubo)\n",
    "print(qaoa_result.prettyprint())"
   ]
  },
  {
   "cell_type": "code",
   "execution_count": 2,
   "metadata": {},
   "outputs": [
    {
     "name": "stderr",
     "output_type": "stream",
     "text": [
      "C:\\Users\\Acer\\AppData\\Local\\Temp\\ipykernel_14492\\4254211936.py:48: DeprecationWarning: The class ``qiskit.utils.quantum_instance.QuantumInstance`` is deprecated as of qiskit-terra 0.24.0. It will be removed no earlier than 3 months after the release date. For code migration guidelines, visit https://qisk.it/qi_migration.\n",
      "  qi = QuantumInstance(backend=backend, shots=1024, seed_simulator=algorithm_globals.random_seed, seed_transpiler=algorithm_globals.random_seed)\n",
      "C:\\Users\\Acer\\AppData\\Local\\Temp\\ipykernel_14492\\4254211936.py:51: DeprecationWarning: The class ``qiskit.algorithms.minimum_eigen_solvers.qaoa.QAOA`` is deprecated as of qiskit-terra 0.24.0. It will be removed no earlier than 3 months after the release date. Instead, use the class ``qiskit.algorithms.minimum_eigensolvers.QAOA``. See https://qisk.it/algo_migration for a migration guide.\n",
      "  qaoa = QAOA(quantum_instance=qi)\n"
     ]
    },
    {
     "name": "stdout",
     "output_type": "stream",
     "text": [
      "Exact Solution:\n",
      "QAOA Solution:\n",
      "fval=4305.0, x_Supermarket_1=0.0, x_Church_1=0.0, x_Sport_center=1.0, status=SUCCESS\n"
     ]
    }
   ],
   "source": [
    "from qiskit import Aer\n",
    "from qiskit.utils import algorithm_globals, QuantumInstance\n",
    "from qiskit.algorithms import NumPyMinimumEigensolver, QAOA\n",
    "from qiskit_optimization import QuadraticProgram\n",
    "from qiskit_optimization.algorithms import MinimumEigenOptimizer\n",
    "\n",
    "from qiskit_ibm_provider import IBMProvider\n",
    "\n",
    "import random\n",
    "\n",
    "# Constants\n",
    "num_of_locations = 3\n",
    "budget = 200000 # set your budget\n",
    "\n",
    "traffic_values = [random.randint(100, 10000) for _ in range(3)] # add your traffic values\n",
    "costs = [random.randint(100, 10000) for _ in range(3)] # add your costs\n",
    "locations = [\n",
    "    'Supermarket_1',\n",
    "    'Church_1', \n",
    "    'Sport_center',\n",
    "]\n",
    "\n",
    "# Build QUBO\n",
    "problem = QuadraticProgram()\n",
    "\n",
    "# Add binary variables\n",
    "for i in range(num_of_locations):\n",
    "    problem.binary_var(name=f'x_{locations[i]}')\n",
    "\n",
    "# Define objective function\n",
    "linear = [traffic_values[i] for i in range(num_of_locations)]\n",
    "quadratic = {(f'x_{locations[i]}', f'x_{locations[j]}'): -2*traffic_values[i]*traffic_values[j]\n",
    "             for i in range(num_of_locations) for j in range(i+1, num_of_locations)}\n",
    "problem.maximize(linear=linear, quadratic=quadratic)\n",
    "\n",
    "# Add budget constraint\n",
    "problem.linear_constraint(linear={f'x_{locations[i]}': costs[i] for i in range(num_of_locations)}, sense='LE', rhs=budget)\n",
    "\n",
    "# Solve with classical eigensolver to compare\n",
    "#exact_solution = MinimumEigenOptimizer(NumPyMinimumEigensolver()).solve(problem)\n",
    "\n",
    "# Set random seed for reproducibility\n",
    "algorithm_globals.random_seed = 12345\n",
    "\n",
    "# Quantum Instance\n",
    "provider = IBMProvider()\n",
    "backend = provider.get_backend(\"ibmq_qasm_simulator\")\n",
    "qi = QuantumInstance(backend=backend, shots=1024, seed_simulator=algorithm_globals.random_seed, seed_transpiler=algorithm_globals.random_seed)\n",
    "\n",
    "# Run QAOA\n",
    "qaoa = QAOA(quantum_instance=qi)\n",
    "qaoa_solution = MinimumEigenOptimizer(qaoa).solve(problem)\n",
    "\n",
    "print('Exact Solution:')\n",
    "#print(exact_solution)\n",
    "print('QAOA Solution:')\n",
    "print(qaoa_solution)\n"
   ]
  },
  {
   "cell_type": "code",
   "execution_count": 5,
   "metadata": {},
   "outputs": [
    {
     "data": {
      "text/plain": [
       "array([[ 5.+0.j,  0.+0.j,  2.-3.j,  5.+0.j],\n",
       "       [ 0.+0.j, -5.+0.j,  5.+0.j, -2.+3.j],\n",
       "       [ 2.+3.j,  5.+0.j, -3.+0.j,  0.+0.j],\n",
       "       [ 5.+0.j, -2.-3.j,  0.+0.j,  3.+0.j]])"
      ]
     },
     "execution_count": 5,
     "metadata": {},
     "output_type": "execute_result"
    }
   ],
   "source": [
    "from qiskit.opflow.primitive_ops import PauliSumOp\n",
    "paulis = ['IZ', 'XZ', 'YZ', 'ZZ', 'XX']\n",
    "weights = [1,2,3,4,5]\n",
    "pauli_op = [(pauli,weight) for pauli,weight in zip(paulis,weights)]\n",
    "hamiltonian = PauliSumOp.from_list([op for op in pauli_op])\n",
    "hamiltonian.to_matrix()"
   ]
  },
  {
   "cell_type": "markdown",
   "metadata": {},
   "source": []
  },
  {
   "cell_type": "code",
   "execution_count": 6,
   "metadata": {},
   "outputs": [],
   "source": [
    "# import knapsack\n",
    "from qiskit_optimization.applications import Knapsack"
   ]
  },
  {
   "cell_type": "code",
   "execution_count": 12,
   "metadata": {},
   "outputs": [
    {
     "ename": "NameError",
     "evalue": "name 'installation_costs' is not defined",
     "output_type": "error",
     "traceback": [
      "\u001b[1;31m---------------------------------------------------------------------------\u001b[0m",
      "\u001b[1;31mNameError\u001b[0m                                 Traceback (most recent call last)",
      "\u001b[1;32mc:\\Users\\Acer\\Desktop\\tinkering-with-quantum\\qiskit_basics.ipynb Cell 27\u001b[0m in \u001b[0;36m<cell line: 1>\u001b[1;34m()\u001b[0m\n\u001b[1;32m----> <a href='vscode-notebook-cell:/c%3A/Users/Acer/Desktop/tinkering-with-quantum/qiskit_basics.ipynb#X43sZmlsZQ%3D%3D?line=0'>1</a>\u001b[0m installation_costs\u001b[39m.\u001b[39mto_list()\n",
      "\u001b[1;31mNameError\u001b[0m: name 'installation_costs' is not defined"
     ]
    }
   ],
   "source": []
  },
  {
   "cell_type": "code",
   "execution_count": 8,
   "metadata": {},
   "outputs": [
    {
     "name": "stdout",
     "output_type": "stream",
     "text": [
      "Problem name: Knapsack\n",
      "\n",
      "Maximize\n",
      "  0.1*x_0 + 0.3*x_1 + 0.5*x_2 + 0.7*x_4\n",
      "\n",
      "Subject to\n",
      "  Linear constraints (1)\n",
      "    2*x_0 + 3*x_1 + 4*x_2 + 5*x_3 + 6*x_4 <= 10  'c0'\n",
      "\n",
      "  Binary variables (5)\n",
      "    x_0 x_1 x_2 x_3 x_4\n",
      "\n"
     ]
    }
   ],
   "source": [
    "prob = Knapsack(values=[0.1, 0.3, 0.5, 0, 0.7], weights=[2, 3, 4, 5, 6], max_weight=10)\n",
    "qp = prob.to_quadratic_program()\n",
    "print(qp.prettyprint())"
   ]
  },
  {
   "cell_type": "code",
   "execution_count": 10,
   "metadata": {},
   "outputs": [],
   "source": [
    "from qiskit_optimization.algorithms import MinimumEigenOptimizer\n",
    "from qiskit.utils import algorithm_globals\n",
    "from qiskit.algorithms.minimum_eigensolvers import QAOA, NumPyMinimumEigensolver\n",
    "from qiskit.algorithms.optimizers import COBYLA\n",
    "from qiskit.primitives import Sampler"
   ]
  },
  {
   "cell_type": "code",
   "execution_count": 14,
   "metadata": {},
   "outputs": [
    {
     "name": "stdout",
     "output_type": "stream",
     "text": [
      "objective function value: 1.2\n",
      "variable values: x_0=0.0, x_1=0.0, x_2=1.0, x_3=0.0, x_4=1.0\n",
      "status: SUCCESS\n",
      "\n",
      "solution: [2, 4]\n",
      "\n",
      "time: 152.47042441368103\n"
     ]
    }
   ],
   "source": [
    "# QAOA\n",
    "meo = MinimumEigenOptimizer(min_eigen_solver=QAOA(reps=1, sampler=Sampler(), optimizer=COBYLA()))\n",
    "result = meo.solve(qp)\n",
    "print(result.prettyprint())\n",
    "print(\"\\nsolution:\", prob.interpret(result))\n",
    "print(\"\\ntime:\", result.min_eigen_solver_result.optimizer_time)"
   ]
  },
  {
   "cell_type": "code",
   "execution_count": null,
   "metadata": {},
   "outputs": [],
   "source": []
  }
 ],
 "metadata": {
  "kernelspec": {
   "display_name": "Python 3",
   "language": "python",
   "name": "python3"
  },
  "language_info": {
   "codemirror_mode": {
    "name": "ipython",
    "version": 3
   },
   "file_extension": ".py",
   "mimetype": "text/x-python",
   "name": "python",
   "nbconvert_exporter": "python",
   "pygments_lexer": "ipython3",
   "version": "3.10.2"
  },
  "orig_nbformat": 4
 },
 "nbformat": 4,
 "nbformat_minor": 2
}
