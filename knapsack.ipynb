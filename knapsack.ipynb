{
 "cells": [
  {
   "cell_type": "code",
   "execution_count": null,
   "metadata": {},
   "outputs": [],
   "source": [
    "from qiskit_optimization.applications import Knapsack\n",
    "from qiskit_optimization.algorithms import MinimumEigenOptimizer\n",
    "from qiskit.algorithms.minimum_eigensolvers import QAOA\n",
    "from qiskit.algorithms.optimizers import COBYLA\n",
    "from qiskit.primitives import Sampler"
   ]
  },
  {
   "cell_type": "code",
   "execution_count": null,
   "metadata": {},
   "outputs": [],
   "source": [
    "installation_costs = {\n",
    "    'Supermarket_1': 30000,\n",
    "    'Church_1': 10000, \n",
    "    'Sport_center': 44000,\n",
    "    'Supermarket_2': 40000,       \n",
    "    'Shopping_center_2': 27000,\n",
    "    'Shopping_center_1': 35000,\n",
    "    'Cinema': 52000,\n",
    "    'University_1': 65000,\n",
    "    'Library': 22000,\n",
    "    'Park_1': 18000,\n",
    "    'Museum': 42000,\n",
    "    'Train_station': 54000,\n",
    "    'Airport': 97000,\n",
    "    # 'Hospital': 72000,\n",
    "    # 'Office_building': 55000\n",
    "}\n",
    "\n",
    "traffic_values = {\n",
    "    'Supermarket_1': [0.06, 0.21, 0.86, 0.38, 0.16, 0.06, 0.38],\n",
    "    'Church_1': [0.74, 0.74, 0.6, 0.45, 0.22, 0.08, 0.15],\n",
    "    'Sport_center': [0.30, 0.5, 0.51, 0.50, 0.46, 0.06, 0.73],\n",
    "    'Supermarket_2': [0.91, 0.24, 0.98, 0.70, 0.89, 0.42, 0.2],\n",
    "    'Shopping_center_2': [0.54, 0.59, 0.11, 0.29, 0.15, 0, 0],\n",
    "    'Shopping_center_1': [0.28, 0.84, 0.25, 0.07, 0.13, 0.31, 0.19],\n",
    "    'Cinema': [0.40, 0.77, 0.99, 0.90, 0.84, 0.10, 0.58],\n",
    "    'University_1': [0.03, 0.014, 0.86, 0.48, 0.71, 0.73, 0.99],\n",
    "    'Library': [0.56, 0.96, 0.79, 0.14, 0.28, 0.09, 0.35],\n",
    "    'Park_1': [0.82, 0.66, 0.42, 0.18 , 0.24, 0.72, 0.39],\n",
    "    'Museum': [0.18, 0.49, 0.62, 0.37, 0.93, 0, 0],\n",
    "    'Train_station': [0.27, 0.08, 0.73, 0.15, 0.81, 0.98, 0.39],\n",
    "    'Airport': [0.43, 0.19, 0.023, 0.094, 0.84, 0.69, 0.12],\n",
    "    # 'Hospital': [0.61, 0.023, 0.72, 0.25, 0.44 ,0.79, 0.59],\n",
    "    # 'Office_building': [0.075, 0.34, 0.58, 0.72, 0.42, 0, 0]\n",
    "}\n",
    "\n",
    "budget = 120000 # 120k"
   ]
  },
  {
   "cell_type": "code",
   "execution_count": null,
   "metadata": {},
   "outputs": [],
   "source": [
    "# Avg traffic values\n",
    "traffic_values_list = [sum(l)/len(l) for l in traffic_values.values()]\n",
    "installation_costs_list = list(installation_costs.values())\n",
    "budget = int((budget / max(installation_costs_list))*100)\n",
    "\n",
    "# Normalize\n",
    "installation_costs_list = [int((x / max(installation_costs_list))*100) for x in installation_costs_list]\n",
    "installation_costs_list"
   ]
  },
  {
   "cell_type": "code",
   "execution_count": null,
   "metadata": {},
   "outputs": [],
   "source": [
    "\n",
    "prob = Knapsack(values=traffic_values_list, weights=installation_costs_list, max_weight=budget)\n",
    "qp = prob.to_quadratic_program()\n",
    "print(qp.prettyprint())"
   ]
  },
  {
   "cell_type": "code",
   "execution_count": 9,
   "metadata": {},
   "outputs": [],
   "source": [
    "# QAOA\n",
    "meo = MinimumEigenOptimizer(min_eigen_solver=QAOA(reps=1, sampler=Sampler(), optimizer=COBYLA()))\n",
    "result = meo.solve(qp)\n",
    "print(result.prettyprint())\n",
    "print(\"\\nsolution:\", prob.interpret(result))\n",
    "print(\"\\ntime:\", result.min_eigen_solver_result.optimizer_time)"
   ]
  },
  {
   "cell_type": "code",
   "execution_count": null,
   "metadata": {},
   "outputs": [],
   "source": [
    "from qiskit_optimization.converters import QuadraticProgramToQubo\n",
    "\n",
    "# intermediate QUBO form of the optimization problem\n",
    "conv = QuadraticProgramToQubo()\n",
    "qubo = conv.convert(qp)\n",
    "print(qubo.prettyprint())"
   ]
  },
  {
   "cell_type": "code",
   "execution_count": null,
   "metadata": {},
   "outputs": [],
   "source": [
    "# qubit Hamiltonian and offset\n",
    "op, offset = qubo.to_ising()\n",
    "print(f\"num qubits: {op.num_qubits}, offset: {offset}\\n\")\n",
    "print(op)"
   ]
  },
  {
   "cell_type": "code",
   "execution_count": null,
   "metadata": {},
   "outputs": [],
   "source": []
  },
  {
   "cell_type": "code",
   "execution_count": null,
   "metadata": {},
   "outputs": [],
   "source": []
  }
 ],
 "metadata": {
  "kernelspec": {
   "display_name": "Python 3",
   "language": "python",
   "name": "python3"
  },
  "language_info": {
   "codemirror_mode": {
    "name": "ipython",
    "version": 3
   },
   "file_extension": ".py",
   "mimetype": "text/x-python",
   "name": "python",
   "nbconvert_exporter": "python",
   "pygments_lexer": "ipython3",
   "version": "3.10.2"
  },
  "orig_nbformat": 4
 },
 "nbformat": 4,
 "nbformat_minor": 2
}
