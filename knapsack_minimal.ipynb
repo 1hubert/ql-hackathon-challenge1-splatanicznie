{
 "cells": [
  {
   "cell_type": "code",
   "execution_count": 7,
   "metadata": {},
   "outputs": [],
   "source": [
    "from qiskit_optimization.applications import Knapsack\n",
    "from qiskit_optimization.algorithms import MinimumEigenOptimizer\n",
    "from qiskit.utils import algorithm_globals\n",
    "from qiskit.algorithms.minimum_eigensolvers import QAOA, NumPyMinimumEigensolver\n",
    "from qiskit.algorithms.optimizers import COBYLA\n",
    "\n",
    "from qiskit_optimization.runtime import QAOAClient\n",
    "\n",
    "from qiskit.primitives import Sampler"
   ]
  },
  {
   "cell_type": "code",
   "execution_count": 27,
   "metadata": {},
   "outputs": [],
   "source": [
    "installation_costs = {\n",
    "    'Supermarket_1': 30000,\n",
    "    'Shopping_center_1': 35000,\n",
    "    'Cinema': 32000,\n",
    "    'University_1': 45000,\n",
    "}\n",
    "\n",
    "traffic_values = {\n",
    "    'Supermarket_1': [0.06, 0.21, 0.86, 0.38, 0.16, 0.06, 0.38],\n",
    "    'Shopping_center_1': [0.54, 0.59, 0.11, 0.29, 0.15, 0, 0],\n",
    "    'Cinema': [0.40, 0.77, 0.99, 0.90, 0.84, 0.10, 0.58],\n",
    "    'University_1': [0.03, 0.014, 0.86, 0.48, 0.71, 0.73, 0.99],\n",
    "}\n",
    "\n",
    "# Total available budget\n",
    "budget = 75000"
   ]
  },
  {
   "cell_type": "code",
   "execution_count": 28,
   "metadata": {},
   "outputs": [
    {
     "data": {
      "text/plain": [
       "[66, 77, 71, 100]"
      ]
     },
     "execution_count": 28,
     "metadata": {},
     "output_type": "execute_result"
    }
   ],
   "source": [
    "traffic_values_list = [sum(l)/len(l) for l in traffic_values.values()]\n",
    "# demand_from_people = [0.1, 0.2, 0.3, 0.4, 0.5, 0.6, 0.7, 0.9, 0.8, 0.7, 0.6, 0.5, 0.4, 0.3, 0.2]\n",
    "\n",
    "# values = list(map(lambda x: (x[0] + x[1]) / 2, list(zip(traffic_values_list, demand_from_people))))\n",
    "installation_costs_list = list(installation_costs.values())\n",
    "\n",
    "\n",
    "# Normalize\n",
    "budget = int((budget / max(installation_costs_list))*100)\n",
    "installation_costs_list = [int((x / max(installation_costs_list))*100) for x in installation_costs_list]\n",
    "installation_costs_list"
   ]
  },
  {
   "cell_type": "code",
   "execution_count": 29,
   "metadata": {},
   "outputs": [
    {
     "name": "stdout",
     "output_type": "stream",
     "text": [
      "Problem name: Knapsack\n",
      "\n",
      "Maximize\n",
      "  0.30142857142857143*x_0 + 0.24*x_1 + 0.6542857142857142*x_2\n",
      "  + 0.5448571428571428*x_3\n",
      "\n",
      "Subject to\n",
      "  Linear constraints (1)\n",
      "    66*x_0 + 77*x_1 + 71*x_2 + 100*x_3 <= 166  'c0'\n",
      "\n",
      "  Binary variables (4)\n",
      "    x_0 x_1 x_2 x_3\n",
      "\n"
     ]
    }
   ],
   "source": [
    "\n",
    "prob = Knapsack(values=traffic_values_list, weights=installation_costs_list, max_weight=budget)\n",
    "qp = prob.to_quadratic_program()\n",
    "print(qp.prettyprint())"
   ]
  },
  {
   "cell_type": "code",
   "execution_count": 30,
   "metadata": {},
   "outputs": [
    {
     "name": "stdout",
     "output_type": "stream",
     "text": [
      "objective function value: 0.9557142857142857\n",
      "variable values: x_0=1.0, x_1=0.0, x_2=1.0, x_3=0.0\n",
      "status: SUCCESS\n",
      "\n",
      "solution: [0, 2]\n",
      "\n",
      "time: 16.528381824493408\n"
     ]
    }
   ],
   "source": [
    "# QAOA\n",
    "meo = MinimumEigenOptimizer(min_eigen_solver=QAOA(reps=1, sampler=Sampler(), optimizer=COBYLA()))\n",
    "result = meo.solve(qp)\n",
    "print(result.prettyprint())\n",
    "print(\"\\nsolution:\", prob.interpret(result))\n",
    "print(\"\\ntime:\", result.min_eigen_solver_result.optimizer_time)"
   ]
  },
  {
   "cell_type": "code",
   "execution_count": 31,
   "metadata": {},
   "outputs": [
    {
     "name": "stdout",
     "output_type": "stream",
     "text": [
      "Problem name: Knapsack\n",
      "\n",
      "Minimize\n",
      "  2.7405714285714287*c0@int_slack@0^2\n",
      "  + 10.962285714285715*c0@int_slack@0*c0@int_slack@1\n",
      "  + 21.92457142857143*c0@int_slack@0*c0@int_slack@2\n",
      "  + 43.84914285714286*c0@int_slack@0*c0@int_slack@3\n",
      "  + 87.69828571428572*c0@int_slack@0*c0@int_slack@4\n",
      "  + 175.39657142857143*c0@int_slack@0*c0@int_slack@5\n",
      "  + 350.79314285714287*c0@int_slack@0*c0@int_slack@6\n",
      "  + 213.76457142857143*c0@int_slack@0*c0@int_slack@7\n",
      "  + 10.962285714285715*c0@int_slack@1^2\n",
      "  + 43.84914285714286*c0@int_slack@1*c0@int_slack@2\n",
      "  + 87.69828571428572*c0@int_slack@1*c0@int_slack@3\n",
      "  + 175.39657142857143*c0@int_slack@1*c0@int_slack@4\n",
      "  + 350.79314285714287*c0@int_slack@1*c0@int_slack@5\n",
      "  + 701.5862857142857*c0@int_slack@1*c0@int_slack@6\n",
      "  + 427.52914285714286*c0@int_slack@1*c0@int_slack@7\n",
      "  + 43.84914285714286*c0@int_slack@2^2\n",
      "  + 175.39657142857143*c0@int_slack@2*c0@int_slack@3\n",
      "  + 350.79314285714287*c0@int_slack@2*c0@int_slack@4\n",
      "  + 701.5862857142857*c0@int_slack@2*c0@int_slack@5\n",
      "  + 1403.1725714285715*c0@int_slack@2*c0@int_slack@6\n",
      "  + 855.0582857142857*c0@int_slack@2*c0@int_slack@7\n",
      "  + 175.39657142857143*c0@int_slack@3^2\n",
      "  + 701.5862857142857*c0@int_slack@3*c0@int_slack@4\n",
      "  + 1403.1725714285715*c0@int_slack@3*c0@int_slack@5\n",
      "  + 2806.345142857143*c0@int_slack@3*c0@int_slack@6\n",
      "  + 1710.1165714285714*c0@int_slack@3*c0@int_slack@7\n",
      "  + 701.5862857142857*c0@int_slack@4^2\n",
      "  + 2806.345142857143*c0@int_slack@4*c0@int_slack@5\n",
      "  + 5612.690285714286*c0@int_slack@4*c0@int_slack@6\n",
      "  + 3420.233142857143*c0@int_slack@4*c0@int_slack@7\n",
      "  + 2806.345142857143*c0@int_slack@5^2\n",
      "  + 11225.380571428572*c0@int_slack@5*c0@int_slack@6\n",
      "  + 6840.466285714286*c0@int_slack@5*c0@int_slack@7\n",
      "  + 11225.380571428572*c0@int_slack@6^2\n",
      "  + 13680.932571428571*c0@int_slack@6*c0@int_slack@7\n",
      "  + 4168.409142857143*c0@int_slack@7^2 + 361.7554285714286*x_0*c0@int_slack@0\n",
      "  + 723.5108571428572*x_0*c0@int_slack@1 + 1447.0217142857143*x_0*c0@int_slack@2\n",
      "  + 2894.0434285714286*x_0*c0@int_slack@3 + 5788.086857142857*x_0*c0@int_slack@4\n",
      "  + 11576.173714285715*x_0*c0@int_slack@5 + 23152.34742857143*x_0*c0@int_slack@6\n",
      "  + 14108.461714285715*x_0*c0@int_slack@7 + 11937.929142857143*x_0^2\n",
      "  + 27855.168*x_0*x_1 + 25684.63542857143*x_0*x_2 + 36175.54285714286*x_0*x_3\n",
      "  + 422.048*x_1*c0@int_slack@0 + 844.096*x_1*c0@int_slack@1\n",
      "  + 1688.192*x_1*c0@int_slack@2 + 3376.384*x_1*c0@int_slack@3\n",
      "  + 6752.768*x_1*c0@int_slack@4 + 13505.536*x_1*c0@int_slack@5\n",
      "  + 27011.072*x_1*c0@int_slack@6 + 16459.872*x_1*c0@int_slack@7\n",
      "  + 16248.848*x_1^2 + 29965.408*x_1*x_2 + 42204.8*x_1*x_3\n",
      "  + 389.16114285714286*x_2*c0@int_slack@0 + 778.3222857142857*x_2*c0@int_slack@1\n",
      "  + 1556.6445714285715*x_2*c0@int_slack@2 + 3113.289142857143*x_2*c0@int_slack@3\n",
      "  + 6226.578285714286*x_2*c0@int_slack@4 + 12453.156571428572*x_2*c0@int_slack@5\n",
      "  + 24906.313142857143*x_2*c0@int_slack@6\n",
      "  + 15177.284571428572*x_2*c0@int_slack@7 + 13815.220571428572*x_2^2\n",
      "  + 38916.114285714284*x_2*x_3 + 548.1142857142858*x_3*c0@int_slack@0\n",
      "  + 1096.2285714285715*x_3*c0@int_slack@1 + 2192.457142857143*x_3*c0@int_slack@2\n",
      "  + 4384.914285714286*x_3*c0@int_slack@3 + 8769.828571428572*x_3*c0@int_slack@4\n",
      "  + 17539.657142857144*x_3*c0@int_slack@5 + 35079.31428571429*x_3*c0@int_slack@6\n",
      "  + 21376.457142857143*x_3*c0@int_slack@7 + 27405.714285714286*x_3^2\n",
      "  - 909.8697142857143*c0@int_slack@0 - 1819.7394285714286*c0@int_slack@1\n",
      "  - 3639.478857142857*c0@int_slack@2 - 7278.957714285714*c0@int_slack@3\n",
      "  - 14557.915428571428*c0@int_slack@4 - 29115.830857142857*c0@int_slack@5\n",
      "  - 58231.661714285714*c0@int_slack@6 - 35484.91885714286*c0@int_slack@7\n",
      "  - 60051.70257142858*x_0 - 70060.208*x_1 - 64601.404*x_2\n",
      "  - 90987.51628571429*x_3 + 75519.18628571428\n",
      "\n",
      "Subject to\n",
      "  No constraints\n",
      "\n",
      "  Binary variables (12)\n",
      "    x_0 x_1 x_2 x_3 c0@int_slack@0 c0@int_slack@1 c0@int_slack@2 c0@int_slack@3\n",
      "    c0@int_slack@4 c0@int_slack@5 c0@int_slack@6 c0@int_slack@7\n",
      "\n"
     ]
    }
   ],
   "source": [
    "from qiskit_optimization.converters import QuadraticProgramToQubo\n",
    "\n",
    "# intermediate QUBO form of the optimization problem\n",
    "conv = QuadraticProgramToQubo()\n",
    "qubo = conv.convert(qp)\n",
    "print(qubo.prettyprint())"
   ]
  },
  {
   "cell_type": "code",
   "execution_count": 32,
   "metadata": {},
   "outputs": [
    {
     "name": "stdout",
     "output_type": "stream",
     "text": [
      "num qubits: 12, offset: 37142.09428571427\n",
      "\n",
      "-13384.800142857144 * IIIIIIIIIIIZ\n",
      "- 15615.656000000003 * IIIIIIIIIIZI\n",
      "- 14398.635142857143 * IIIIIIIIIZII\n",
      "- 20279.956142857147 * IIIIIIIIZIII\n",
      "- 202.80228571428577 * IIIIIIIZIIII\n",
      "- 405.60457142857155 * IIIIIIZIIIII\n",
      "- 811.2091428571431 * IIIIIZIIIIII\n",
      "- 1622.4182857142862 * IIIIZIIIIIII\n",
      "- 3244.8365714285724 * IIIZIIIIIIII\n",
      "- 6489.673142857145 * IIZIIIIIIIII\n",
      "- 12979.346285714288 * IZIIIIIIIIII\n",
      "- 7909.289142857142 * ZIIIIIIIIIII\n",
      "+ 6963.792 * IIIIIIIIIIZZ\n",
      "+ 6421.158857142857 * IIIIIIIIIZIZ\n",
      "+ 7491.352 * IIIIIIIIIZZI\n",
      "+ 9043.885714285714 * IIIIIIIIZIIZ\n",
      "+ 10551.2 * IIIIIIIIZIZI\n",
      "+ 9729.028571428571 * IIIIIIIIZZII\n",
      "+ 90.43885714285715 * IIIIIIIZIIIZ\n",
      "+ 105.512 * IIIIIIIZIIZI\n",
      "+ 97.29028571428572 * IIIIIIIZIZII\n",
      "+ 137.02857142857144 * IIIIIIIZZIII\n",
      "+ 180.8777142857143 * IIIIIIZIIIIZ\n",
      "+ 211.024 * IIIIIIZIIIZI\n",
      "+ 194.58057142857143 * IIIIIIZIIZII\n",
      "+ 274.0571428571429 * IIIIIIZIZIII\n",
      "+ 2.7405714285714287 * IIIIIIZZIIII\n",
      "+ 361.7554285714286 * IIIIIZIIIIIZ\n",
      "+ 422.048 * IIIIIZIIIIZI\n",
      "+ 389.16114285714286 * IIIIIZIIIZII\n",
      "+ 548.1142857142858 * IIIIIZIIZIII\n",
      "+ 5.481142857142857 * IIIIIZIZIIII\n",
      "+ 10.962285714285715 * IIIIIZZIIIII\n",
      "+ 723.5108571428572 * IIIIZIIIIIIZ\n",
      "+ 844.096 * IIIIZIIIIIZI\n",
      "+ 778.3222857142857 * IIIIZIIIIZII\n",
      "+ 1096.2285714285715 * IIIIZIIIZIII\n",
      "+ 10.962285714285715 * IIIIZIIZIIII\n",
      "+ 21.92457142857143 * IIIIZIZIIIII\n",
      "+ 43.84914285714286 * IIIIZZIIIIII\n",
      "+ 1447.0217142857143 * IIIZIIIIIIIZ\n",
      "+ 1688.192 * IIIZIIIIIIZI\n",
      "+ 1556.6445714285715 * IIIZIIIIIZII\n",
      "+ 2192.457142857143 * IIIZIIIIZIII\n",
      "+ 21.92457142857143 * IIIZIIIZIIII\n",
      "+ 43.84914285714286 * IIIZIIZIIIII\n",
      "+ 87.69828571428572 * IIIZIZIIIIII\n",
      "+ 175.39657142857143 * IIIZZIIIIIII\n",
      "+ 2894.0434285714286 * IIZIIIIIIIIZ\n",
      "+ 3376.384 * IIZIIIIIIIZI\n",
      "+ 3113.289142857143 * IIZIIIIIIZII\n",
      "+ 4384.914285714286 * IIZIIIIIZIII\n",
      "+ 43.84914285714286 * IIZIIIIZIIII\n",
      "+ 87.69828571428572 * IIZIIIZIIIII\n",
      "+ 175.39657142857143 * IIZIIZIIIIII\n",
      "+ 350.79314285714287 * IIZIZIIIIIII\n",
      "+ 701.5862857142857 * IIZZIIIIIIII\n",
      "+ 5788.086857142857 * IZIIIIIIIIIZ\n",
      "+ 6752.768 * IZIIIIIIIIZI\n",
      "+ 6226.578285714286 * IZIIIIIIIZII\n",
      "+ 8769.828571428572 * IZIIIIIIZIII\n",
      "+ 87.69828571428572 * IZIIIIIZIIII\n",
      "+ 175.39657142857143 * IZIIIIZIIIII\n",
      "+ 350.79314285714287 * IZIIIZIIIIII\n",
      "+ 701.5862857142857 * IZIIZIIIIIII\n",
      "+ 1403.1725714285715 * IZIZIIIIIIII\n",
      "+ 2806.345142857143 * IZZIIIIIIIII\n",
      "+ 3527.1154285714288 * ZIIIIIIIIIIZ\n",
      "+ 4114.968 * ZIIIIIIIIIZI\n",
      "+ 3794.321142857143 * ZIIIIIIIIZII\n",
      "+ 5344.114285714286 * ZIIIIIIIZIII\n",
      "+ 53.44114285714286 * ZIIIIIIZIIII\n",
      "+ 106.88228571428571 * ZIIIIIZIIIII\n",
      "+ 213.76457142857143 * ZIIIIZIIIIII\n",
      "+ 427.52914285714286 * ZIIIZIIIIIII\n",
      "+ 855.0582857142857 * ZIIZIIIIIIII\n",
      "+ 1710.1165714285714 * ZIZIIIIIIIII\n",
      "+ 3420.233142857143 * ZZIIIIIIIIII\n"
     ]
    }
   ],
   "source": [
    "# qubit Hamiltonian and offset\n",
    "op, offset = qubo.to_ising()\n",
    "print(f\"num qubits: {op.num_qubits}, offset: {offset}\\n\")\n",
    "print(op)"
   ]
  },
  {
   "cell_type": "code",
   "execution_count": null,
   "metadata": {},
   "outputs": [],
   "source": []
  },
  {
   "cell_type": "code",
   "execution_count": null,
   "metadata": {},
   "outputs": [],
   "source": []
  }
 ],
 "metadata": {
  "kernelspec": {
   "display_name": "Python 3",
   "language": "python",
   "name": "python3"
  },
  "language_info": {
   "codemirror_mode": {
    "name": "ipython",
    "version": 3
   },
   "file_extension": ".py",
   "mimetype": "text/x-python",
   "name": "python",
   "nbconvert_exporter": "python",
   "pygments_lexer": "ipython3",
   "version": "3.10.2"
  },
  "orig_nbformat": 4
 },
 "nbformat": 4,
 "nbformat_minor": 2
}
